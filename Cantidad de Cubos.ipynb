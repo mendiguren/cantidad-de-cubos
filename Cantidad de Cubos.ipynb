{
 "metadata": {
  "name": ""
 },
 "nbformat": 3,
 "nbformat_minor": 0,
 "worksheets": [
  {
   "cells": [
    {
     "cell_type": "code",
     "collapsed": false,
     "input": [
      "import matplotlib.pyplot as plt\n",
      "%matplotlib inline\n",
      "lmin=174\n",
      "fov=87\n",
      "velocidad=5000\n",
      "lmax=32000\n",
      "matriz=[]\n",
      "cantidadDeServidores=1\n",
      "precioPorHora=0.25\n",
      "l=lmax\n",
      "lreal=lmax\n",
      "tmax=l*l*170/velocidad/3600\n",
      "gasto=tmax*cantidadDeServidores*precioPorHora\n",
      "matriz.append([lmax,tmax,cantidadDeServidores,gasto])\n",
      "\n",
      "x = []\n",
      "y = []\n",
      "\n",
      "while l>=lmin:\n",
      "    l=l/2\n",
      "    lreal=l+fov*2\n",
      "    cantidadDeServidores=cantidadDeServidores*2*2\n",
      "    tiempo=(lreal*lreal*170/velocidad/3600.0)\n",
      "    gasto=tiempo*cantidadDeServidores*precioPorHora\n",
      "    #matriz.append([lreal,tiempo,cantidadDeServidores,gasto])\n",
      "    matriz.append([tiempo,gasto])\n",
      "    \n",
      "    x.append(tiempo)\n",
      "    y.append(gasto)\n",
      "print matriz\n",
      "plt.scatter(x,y)\n"
     ],
     "language": "python",
     "metadata": {},
     "outputs": [
      {
       "output_type": "stream",
       "stream": "stdout",
       "text": [
        "[[32000, 9671, 1, 2417.75], [2470.650277777778, 2470.650277777778], [631.0236111111111, 2524.0944444444444], [164.54361111111112, 2632.697777777778], [44.636944444444445, 2856.7644444444445], [13.016944444444444, 3332.337777777778], [4.290277777777778, 4393.2444444444445], [1.6977777777777778, 6954.097777777778], [0.8441666666666666, 13830.826666666666]]\n"
       ]
      },
      {
       "metadata": {},
       "output_type": "pyout",
       "prompt_number": 4,
       "text": [
        "<matplotlib.collections.PathCollection at 0x7f314eecbb10>"
       ]
      },
      {
       "metadata": {},
       "output_type": "display_data",
       "png": "[encoded data removed]",
       "text": [
        "<matplotlib.figure.Figure at 0x7f314ee5e890>"
       ]
      }
     ],
     "prompt_number": 4
    },
    {
     "cell_type": "code",
     "collapsed": false,
     "input": [
      "32000/16"
     ],
     "language": "python",
     "metadata": {},
     "outputs": [
      {
       "metadata": {},
       "output_type": "pyout",
       "prompt_number": 7,
       "text": [
        "2000"
       ]
      }
     ],
     "prompt_number": 7
    },
    {
     "cell_type": "code",
     "collapsed": false,
     "input": [],
     "language": "python",
     "metadata": {},
     "outputs": []
    }
   ],
   "metadata": {}
  }
 ]
}